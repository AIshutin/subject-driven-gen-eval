{
 "cells": [
  {
   "cell_type": "code",
   "execution_count": 28,
   "id": "36f5bf21",
   "metadata": {},
   "outputs": [
    {
     "name": "stdout",
     "output_type": "stream",
     "text": [
      "can\n"
     ]
    },
    {
     "data": {
      "text/html": [
       "<style type=\"text/css\">\n",
       "#T_55df9_row3_col1, #T_55df9_row3_col2, #T_55df9_row3_col3 {\n",
       "  font-weight: bold;\n",
       "}\n",
       "</style>\n",
       "<table id=\"T_55df9\">\n",
       "  <thead>\n",
       "    <tr>\n",
       "      <th class=\"blank level0\" >&nbsp;</th>\n",
       "      <th id=\"T_55df9_level0_col0\" class=\"col_heading level0 col0\" >name</th>\n",
       "      <th id=\"T_55df9_level0_col1\" class=\"col_heading level0 col1\" >DINO</th>\n",
       "      <th id=\"T_55df9_level0_col2\" class=\"col_heading level0 col2\" >CLIP-I</th>\n",
       "      <th id=\"T_55df9_level0_col3\" class=\"col_heading level0 col3\" >CLIP-T</th>\n",
       "    </tr>\n",
       "  </thead>\n",
       "  <tbody>\n",
       "    <tr>\n",
       "      <th id=\"T_55df9_level0_row0\" class=\"row_heading level0 row0\" >0</th>\n",
       "      <td id=\"T_55df9_row0_col0\" class=\"data row0 col0\" >pretrained</td>\n",
       "      <td id=\"T_55df9_row0_col1\" class=\"data row0 col1\" >0.266</td>\n",
       "      <td id=\"T_55df9_row0_col2\" class=\"data row0 col2\" >0.542</td>\n",
       "      <td id=\"T_55df9_row0_col3\" class=\"data row0 col3\" >0.351</td>\n",
       "    </tr>\n",
       "    <tr>\n",
       "      <th id=\"T_55df9_level0_row1\" class=\"row_heading level0 row1\" >1</th>\n",
       "      <td id=\"T_55df9_row1_col0\" class=\"data row1 col0\" >real images</td>\n",
       "      <td id=\"T_55df9_row1_col1\" class=\"data row1 col1\" >0.767</td>\n",
       "      <td id=\"T_55df9_row1_col2\" class=\"data row1 col2\" >0.816</td>\n",
       "      <td id=\"T_55df9_row1_col3\" class=\"data row1 col3\" >0.000</td>\n",
       "    </tr>\n",
       "    <tr>\n",
       "      <th id=\"T_55df9_level0_row2\" class=\"row_heading level0 row2\" >2</th>\n",
       "      <td id=\"T_55df9_row2_col0\" class=\"data row2 col0\" >textual inversion</td>\n",
       "      <td id=\"T_55df9_row2_col1\" class=\"data row2 col1\" >0.700</td>\n",
       "      <td id=\"T_55df9_row2_col2\" class=\"data row2 col2\" >0.721</td>\n",
       "      <td id=\"T_55df9_row2_col3\" class=\"data row2 col3\" >0.305</td>\n",
       "    </tr>\n",
       "    <tr>\n",
       "      <th id=\"T_55df9_level0_row3\" class=\"row_heading level0 row3\" >3</th>\n",
       "      <td id=\"T_55df9_row3_col0\" class=\"data row3 col0\" >dreambooth</td>\n",
       "      <td id=\"T_55df9_row3_col1\" class=\"data row3 col1\" >0.771</td>\n",
       "      <td id=\"T_55df9_row3_col2\" class=\"data row3 col2\" >0.797</td>\n",
       "      <td id=\"T_55df9_row3_col3\" class=\"data row3 col3\" >0.312</td>\n",
       "    </tr>\n",
       "    <tr>\n",
       "      <th id=\"T_55df9_level0_row4\" class=\"row_heading level0 row4\" >4</th>\n",
       "      <td id=\"T_55df9_row4_col0\" class=\"data row4 col0\" >custom diffusion</td>\n",
       "      <td id=\"T_55df9_row4_col1\" class=\"data row4 col1\" >0.727</td>\n",
       "      <td id=\"T_55df9_row4_col2\" class=\"data row4 col2\" >0.766</td>\n",
       "      <td id=\"T_55df9_row4_col3\" class=\"data row4 col3\" >0.302</td>\n",
       "    </tr>\n",
       "    <tr>\n",
       "      <th id=\"T_55df9_level0_row5\" class=\"row_heading level0 row5\" >5</th>\n",
       "      <td id=\"T_55df9_row5_col0\" class=\"data row5 col0\" >concept discovery</td>\n",
       "      <td id=\"T_55df9_row5_col1\" class=\"data row5 col1\" >0.665</td>\n",
       "      <td id=\"T_55df9_row5_col2\" class=\"data row5 col2\" >0.709</td>\n",
       "      <td id=\"T_55df9_row5_col3\" class=\"data row5 col3\" >0.298</td>\n",
       "    </tr>\n",
       "  </tbody>\n",
       "</table>\n"
      ],
      "text/plain": [
       "<pandas.io.formats.style.Styler at 0x7f0524dd6080>"
      ]
     },
     "execution_count": 28,
     "metadata": {},
     "output_type": "execute_result"
    }
   ],
   "source": [
    "import pandas as pd\n",
    "\n",
    "entity = 'can'\n",
    "\n",
    "data = [\n",
    "    (\"pretrained\", f\"evaluation_results/{entity}-baseline-eval.json\"),\n",
    "    (\"real images\", f\"evaluation_results/{entity}-realimages-eval.json\"),\n",
    "    (\"textual inversion\", f\"evaluation_results/{entity}-textual_inversion-eval.json\"),\n",
    "    (\"dreambooth\", f\"evaluation_results/{entity}-dreambooth-eval.json\"),\n",
    "    (\"custom diffusion\", f\"evaluation_results/{entity}-custom_diffusion-eval.json\"),\n",
    "    (\"concept discovery\", f\"evaluation_results/{entity}-concept_discovery-eval.json\"),\n",
    "]\n",
    "\n",
    "rows = []\n",
    "header = ['name', 'CLIP-T', 'CLIP-I', 'DINO']\n",
    "\n",
    "for el in data:\n",
    "    curr = pd.read_json(el[1], lines=True).mean()\n",
    "    # print(curr, list(curr))\n",
    "    values = []\n",
    "    for k in header[1:]:\n",
    "        values.append(curr.get(k, 0))\n",
    "    rows.append([el[0]] + values)\n",
    "df = pd.DataFrame(rows, columns=header)\n",
    "\n",
    "\n",
    "# Function to apply bold text for max values\n",
    "def highlight_max(s):\n",
    "    '''\n",
    "    Highlight the maximum in a Series yellow.\n",
    "    '''\n",
    "    if s.name == 'name':\n",
    "        return [''] * len(s)\n",
    "    else:\n",
    "        is_max = s == s[2:].max()\n",
    "        return ['font-weight: bold' if v else '' for v in is_max]\n",
    "\n",
    "# Apply the style\n",
    "columns_titles = [\"name\", \"DINO\", \"CLIP-I\", \"CLIP-T\"]\n",
    "df=df.reindex(columns=columns_titles)\n",
    "\n",
    "styler = df.style.apply(highlight_max).format({\n",
    "    'CLIP-T': '{:.3f}', \n",
    "    'CLIP-I': '{:.3f}',\n",
    "    'DINO':   '{:.3f}',\n",
    "})\n",
    "print(entity)\n",
    "styler"
   ]
  },
  {
   "cell_type": "code",
   "execution_count": 31,
   "id": "24427051",
   "metadata": {},
   "outputs": [],
   "source": [
    "if entity == 'dog':\n",
    "    df_dog = df.copy()\n",
    "else:\n",
    "    df['DINO (all)'] = (df['DINO'] + df_dog['DINO']) / 2.0\n",
    "    df['CLIP-I (all)'] = (df['CLIP-I'] + df_dog['CLIP-I']) / 2.0\n",
    "    df['CLIP-T (all)'] = (df['CLIP-T'] + df_dog['CLIP-T']) / 2.0\n",
    "    df['DINO (dog)'] = df_dog['DINO']\n",
    "    df['CLIP-I (dog)'] = df_dog['CLIP-I']\n",
    "    df['CLIP-T (dog)'] = df_dog['CLIP-T']\n",
    "    df['DINO (can)'] = df['DINO']\n",
    "    df['CLIP-I (can)'] = df['CLIP-I']\n",
    "    df['CLIP-T (can)'] = df['CLIP-T']\n",
    "    df = df.drop(['CLIP-T', 'DINO', 'CLIP-I'], axis=1)"
   ]
  },
  {
   "cell_type": "code",
   "execution_count": 32,
   "id": "7c512b5a",
   "metadata": {},
   "outputs": [
    {
     "data": {
      "text/html": [
       "<style type=\"text/css\">\n",
       "#T_c2b9c_row3_col1, #T_c2b9c_row3_col2, #T_c2b9c_row3_col3, #T_c2b9c_row3_col5, #T_c2b9c_row3_col6, #T_c2b9c_row3_col7, #T_c2b9c_row3_col8, #T_c2b9c_row3_col9, #T_c2b9c_row4_col4 {\n",
       "  font-weight: bold;\n",
       "}\n",
       "</style>\n",
       "<table id=\"T_c2b9c\">\n",
       "  <thead>\n",
       "    <tr>\n",
       "      <th class=\"blank level0\" >&nbsp;</th>\n",
       "      <th id=\"T_c2b9c_level0_col0\" class=\"col_heading level0 col0\" >name</th>\n",
       "      <th id=\"T_c2b9c_level0_col1\" class=\"col_heading level0 col1\" >DINO (all)</th>\n",
       "      <th id=\"T_c2b9c_level0_col2\" class=\"col_heading level0 col2\" >CLIP-I (all)</th>\n",
       "      <th id=\"T_c2b9c_level0_col3\" class=\"col_heading level0 col3\" >CLIP-T (all)</th>\n",
       "      <th id=\"T_c2b9c_level0_col4\" class=\"col_heading level0 col4\" >DINO (dog)</th>\n",
       "      <th id=\"T_c2b9c_level0_col5\" class=\"col_heading level0 col5\" >CLIP-I (dog)</th>\n",
       "      <th id=\"T_c2b9c_level0_col6\" class=\"col_heading level0 col6\" >CLIP-T (dog)</th>\n",
       "      <th id=\"T_c2b9c_level0_col7\" class=\"col_heading level0 col7\" >DINO (can)</th>\n",
       "      <th id=\"T_c2b9c_level0_col8\" class=\"col_heading level0 col8\" >CLIP-I (can)</th>\n",
       "      <th id=\"T_c2b9c_level0_col9\" class=\"col_heading level0 col9\" >CLIP-T (can)</th>\n",
       "    </tr>\n",
       "  </thead>\n",
       "  <tbody>\n",
       "    <tr>\n",
       "      <th id=\"T_c2b9c_level0_row0\" class=\"row_heading level0 row0\" >0</th>\n",
       "      <td id=\"T_c2b9c_row0_col0\" class=\"data row0 col0\" >pretrained</td>\n",
       "      <td id=\"T_c2b9c_row0_col1\" class=\"data row0 col1\" >0.300</td>\n",
       "      <td id=\"T_c2b9c_row0_col2\" class=\"data row0 col2\" >0.661</td>\n",
       "      <td id=\"T_c2b9c_row0_col3\" class=\"data row0 col3\" >0.345</td>\n",
       "      <td id=\"T_c2b9c_row0_col4\" class=\"data row0 col4\" >0.334</td>\n",
       "      <td id=\"T_c2b9c_row0_col5\" class=\"data row0 col5\" >0.780</td>\n",
       "      <td id=\"T_c2b9c_row0_col6\" class=\"data row0 col6\" >0.340</td>\n",
       "      <td id=\"T_c2b9c_row0_col7\" class=\"data row0 col7\" >0.266</td>\n",
       "      <td id=\"T_c2b9c_row0_col8\" class=\"data row0 col8\" >0.542</td>\n",
       "      <td id=\"T_c2b9c_row0_col9\" class=\"data row0 col9\" >0.351</td>\n",
       "    </tr>\n",
       "    <tr>\n",
       "      <th id=\"T_c2b9c_level0_row1\" class=\"row_heading level0 row1\" >1</th>\n",
       "      <td id=\"T_c2b9c_row1_col0\" class=\"data row1 col0\" >real images</td>\n",
       "      <td id=\"T_c2b9c_row1_col1\" class=\"data row1 col1\" >0.823</td>\n",
       "      <td id=\"T_c2b9c_row1_col2\" class=\"data row1 col2\" >0.877</td>\n",
       "      <td id=\"T_c2b9c_row1_col3\" class=\"data row1 col3\" >0.000</td>\n",
       "      <td id=\"T_c2b9c_row1_col4\" class=\"data row1 col4\" >0.879</td>\n",
       "      <td id=\"T_c2b9c_row1_col5\" class=\"data row1 col5\" >0.939</td>\n",
       "      <td id=\"T_c2b9c_row1_col6\" class=\"data row1 col6\" >0.000</td>\n",
       "      <td id=\"T_c2b9c_row1_col7\" class=\"data row1 col7\" >0.767</td>\n",
       "      <td id=\"T_c2b9c_row1_col8\" class=\"data row1 col8\" >0.816</td>\n",
       "      <td id=\"T_c2b9c_row1_col9\" class=\"data row1 col9\" >0.000</td>\n",
       "    </tr>\n",
       "    <tr>\n",
       "      <th id=\"T_c2b9c_level0_row2\" class=\"row_heading level0 row2\" >2</th>\n",
       "      <td id=\"T_c2b9c_row2_col0\" class=\"data row2 col0\" >textual inversion</td>\n",
       "      <td id=\"T_c2b9c_row2_col1\" class=\"data row2 col1\" >0.753</td>\n",
       "      <td id=\"T_c2b9c_row2_col2\" class=\"data row2 col2\" >0.791</td>\n",
       "      <td id=\"T_c2b9c_row2_col3\" class=\"data row2 col3\" >0.308</td>\n",
       "      <td id=\"T_c2b9c_row2_col4\" class=\"data row2 col4\" >0.805</td>\n",
       "      <td id=\"T_c2b9c_row2_col5\" class=\"data row2 col5\" >0.861</td>\n",
       "      <td id=\"T_c2b9c_row2_col6\" class=\"data row2 col6\" >0.311</td>\n",
       "      <td id=\"T_c2b9c_row2_col7\" class=\"data row2 col7\" >0.700</td>\n",
       "      <td id=\"T_c2b9c_row2_col8\" class=\"data row2 col8\" >0.721</td>\n",
       "      <td id=\"T_c2b9c_row2_col9\" class=\"data row2 col9\" >0.305</td>\n",
       "    </tr>\n",
       "    <tr>\n",
       "      <th id=\"T_c2b9c_level0_row3\" class=\"row_heading level0 row3\" >3</th>\n",
       "      <td id=\"T_c2b9c_row3_col0\" class=\"data row3 col0\" >dreambooth</td>\n",
       "      <td id=\"T_c2b9c_row3_col1\" class=\"data row3 col1\" >0.803</td>\n",
       "      <td id=\"T_c2b9c_row3_col2\" class=\"data row3 col2\" >0.844</td>\n",
       "      <td id=\"T_c2b9c_row3_col3\" class=\"data row3 col3\" >0.322</td>\n",
       "      <td id=\"T_c2b9c_row3_col4\" class=\"data row3 col4\" >0.834</td>\n",
       "      <td id=\"T_c2b9c_row3_col5\" class=\"data row3 col5\" >0.891</td>\n",
       "      <td id=\"T_c2b9c_row3_col6\" class=\"data row3 col6\" >0.332</td>\n",
       "      <td id=\"T_c2b9c_row3_col7\" class=\"data row3 col7\" >0.771</td>\n",
       "      <td id=\"T_c2b9c_row3_col8\" class=\"data row3 col8\" >0.797</td>\n",
       "      <td id=\"T_c2b9c_row3_col9\" class=\"data row3 col9\" >0.312</td>\n",
       "    </tr>\n",
       "    <tr>\n",
       "      <th id=\"T_c2b9c_level0_row4\" class=\"row_heading level0 row4\" >4</th>\n",
       "      <td id=\"T_c2b9c_row4_col0\" class=\"data row4 col0\" >custom diffusion</td>\n",
       "      <td id=\"T_c2b9c_row4_col1\" class=\"data row4 col1\" >0.783</td>\n",
       "      <td id=\"T_c2b9c_row4_col2\" class=\"data row4 col2\" >0.821</td>\n",
       "      <td id=\"T_c2b9c_row4_col3\" class=\"data row4 col3\" >0.305</td>\n",
       "      <td id=\"T_c2b9c_row4_col4\" class=\"data row4 col4\" >0.840</td>\n",
       "      <td id=\"T_c2b9c_row4_col5\" class=\"data row4 col5\" >0.877</td>\n",
       "      <td id=\"T_c2b9c_row4_col6\" class=\"data row4 col6\" >0.308</td>\n",
       "      <td id=\"T_c2b9c_row4_col7\" class=\"data row4 col7\" >0.727</td>\n",
       "      <td id=\"T_c2b9c_row4_col8\" class=\"data row4 col8\" >0.766</td>\n",
       "      <td id=\"T_c2b9c_row4_col9\" class=\"data row4 col9\" >0.302</td>\n",
       "    </tr>\n",
       "    <tr>\n",
       "      <th id=\"T_c2b9c_level0_row5\" class=\"row_heading level0 row5\" >5</th>\n",
       "      <td id=\"T_c2b9c_row5_col0\" class=\"data row5 col0\" >concept discovery</td>\n",
       "      <td id=\"T_c2b9c_row5_col1\" class=\"data row5 col1\" >0.731</td>\n",
       "      <td id=\"T_c2b9c_row5_col2\" class=\"data row5 col2\" >0.787</td>\n",
       "      <td id=\"T_c2b9c_row5_col3\" class=\"data row5 col3\" >0.276</td>\n",
       "      <td id=\"T_c2b9c_row5_col4\" class=\"data row5 col4\" >0.798</td>\n",
       "      <td id=\"T_c2b9c_row5_col5\" class=\"data row5 col5\" >0.865</td>\n",
       "      <td id=\"T_c2b9c_row5_col6\" class=\"data row5 col6\" >0.254</td>\n",
       "      <td id=\"T_c2b9c_row5_col7\" class=\"data row5 col7\" >0.665</td>\n",
       "      <td id=\"T_c2b9c_row5_col8\" class=\"data row5 col8\" >0.709</td>\n",
       "      <td id=\"T_c2b9c_row5_col9\" class=\"data row5 col9\" >0.298</td>\n",
       "    </tr>\n",
       "  </tbody>\n",
       "</table>\n"
      ],
      "text/plain": [
       "<pandas.io.formats.style.Styler at 0x7f0524dd6590>"
      ]
     },
     "execution_count": 32,
     "metadata": {},
     "output_type": "execute_result"
    }
   ],
   "source": [
    "df.style.apply(highlight_max).format({\n",
    "    'CLIP-T (all)': '{:.3f}', \n",
    "    'CLIP-I (all)': '{:.3f}',\n",
    "    'DINO (all)':   '{:.3f}',\n",
    "    'CLIP-T (dog)': '{:.3f}', \n",
    "    'CLIP-I (dog)': '{:.3f}',\n",
    "    'DINO (dog)':   '{:.3f}',\n",
    "    'CLIP-T (can)': '{:.3f}', \n",
    "    'CLIP-I (can)': '{:.3f}',\n",
    "    'DINO (can)':   '{:.3f}',\n",
    "})"
   ]
  },
  {
   "cell_type": "code",
   "execution_count": 3,
   "id": "c5ec70f8",
   "metadata": {},
   "outputs": [
    {
     "data": {
      "text/plain": [
       "'{\"name\":{\"0\":\"pretrained\",\"1\":\"real images\",\"2\":\"concept discovery\",\"3\":\"textual inversion\",\"4\":\"dreambooth\",\"5\":\"custom diffusion\"},\"DINO\":{\"0\":0.3338031292,\"1\":0.8792187353,\"2\":0.7975430422,\"3\":0.805077512,\"4\":0.8344519383,\"5\":0.8396901399},\"CLIP-I\":{\"0\":0.7798164062,\"1\":0.9392382809,\"2\":0.8647089844,\"3\":0.8611591797,\"4\":0.8909882812,\"5\":0.8765966797},\"CLIP-T\":{\"0\":0.3400805664,\"1\":0.0,\"2\":0.2537512207,\"3\":0.3114819336,\"4\":0.3317114257,\"5\":0.307532959}}'"
      ]
     },
     "execution_count": 3,
     "metadata": {},
     "output_type": "execute_result"
    }
   ],
   "source": [
    "df.to_json()"
   ]
  },
  {
   "cell_type": "code",
   "execution_count": 24,
   "id": "7d92db58",
   "metadata": {},
   "outputs": [
    {
     "data": {
      "application/vnd.plotly.v1+json": {
       "config": {
        "plotlyServerURL": "https://plot.ly"
       },
       "data": [
        {
         "hovertemplate": "method=pretrained<br>CLIP-T=%{x}<br>Base CLIP-I=%{y}<extra></extra>",
         "legendgroup": "pretrained",
         "marker": {
          "color": "#636efa",
          "symbol": "circle"
         },
         "mode": "markers",
         "name": "pretrained",
         "orientation": "v",
         "showlegend": true,
         "type": "scatter",
         "x": [
          0.34547119137170257
         ],
         "xaxis": "x",
         "y": [
          0.661118326810598
         ],
         "yaxis": "y"
        },
        {
         "hovertemplate": "method=real images<br>CLIP-T=%{x}<br>Base CLIP-I=%{y}<extra></extra>",
         "legendgroup": "real images",
         "marker": {
          "color": "#EF553B",
          "symbol": "circle"
         },
         "mode": "markers",
         "name": "real images",
         "orientation": "v",
         "showlegend": true,
         "type": "scatter",
         "x": [
          0
         ],
         "xaxis": "x",
         "y": [
          0.877435709334286
         ],
         "yaxis": "y"
        },
        {
         "hovertemplate": "method=textual inversion<br>CLIP-T=%{x}<br>Base CLIP-I=%{y}<extra></extra>",
         "legendgroup": "textual inversion",
         "marker": {
          "color": "#00cc96",
          "symbol": "circle"
         },
         "mode": "markers",
         "name": "textual inversion",
         "orientation": "v",
         "showlegend": true,
         "type": "scatter",
         "x": [
          0.3083703612972875
         ],
         "xaxis": "x",
         "y": [
          0.791257486964543
         ],
         "yaxis": "y"
        },
        {
         "hovertemplate": "method=dreambooth<br>CLIP-T=%{x}<br>Base CLIP-I=%{y}<extra></extra>",
         "legendgroup": "dreambooth",
         "marker": {
          "color": "#ab63fa",
          "symbol": "circle"
         },
         "mode": "markers",
         "name": "dreambooth",
         "orientation": "v",
         "showlegend": true,
         "type": "scatter",
         "x": [
          0.32176818844438504
         ],
         "xaxis": "x",
         "y": [
          0.8438583984219505
         ],
         "yaxis": "y"
        },
        {
         "hovertemplate": "method=custom diffusion<br>CLIP-T=%{x}<br>Base CLIP-I=%{y}<extra></extra>",
         "legendgroup": "custom diffusion",
         "marker": {
          "color": "#FFA15A",
          "symbol": "circle"
         },
         "mode": "markers",
         "name": "custom diffusion",
         "orientation": "v",
         "showlegend": true,
         "type": "scatter",
         "x": [
          0.30471679684452757
         ],
         "xaxis": "x",
         "y": [
          0.8211299641775616
         ],
         "yaxis": "y"
        },
        {
         "hovertemplate": "method=concept discovery<br>CLIP-T=%{x}<br>Base CLIP-I=%{y}<extra></extra>",
         "legendgroup": "concept discovery",
         "marker": {
          "color": "#19d3f3",
          "symbol": "circle"
         },
         "mode": "markers",
         "name": "concept discovery",
         "orientation": "v",
         "showlegend": true,
         "type": "scatter",
         "x": [
          0.27572143551930206
         ],
         "xaxis": "x",
         "y": [
          0.7866904296729466
         ],
         "yaxis": "y"
        }
       ],
       "layout": {
        "height": 600,
        "legend": {
         "font": {
          "size": 16
         },
         "title": {
          "font": {
           "family": "Courier New"
          },
          "text": "method"
         },
         "tracegroupgap": 0
        },
        "showlegend": true,
        "template": {
         "data": {
          "bar": [
           {
            "error_x": {
             "color": "#2a3f5f"
            },
            "error_y": {
             "color": "#2a3f5f"
            },
            "marker": {
             "line": {
              "color": "#E5ECF6",
              "width": 0.5
             },
             "pattern": {
              "fillmode": "overlay",
              "size": 10,
              "solidity": 0.2
             }
            },
            "type": "bar"
           }
          ],
          "barpolar": [
           {
            "marker": {
             "line": {
              "color": "#E5ECF6",
              "width": 0.5
             },
             "pattern": {
              "fillmode": "overlay",
              "size": 10,
              "solidity": 0.2
             }
            },
            "type": "barpolar"
           }
          ],
          "carpet": [
           {
            "aaxis": {
             "endlinecolor": "#2a3f5f",
             "gridcolor": "white",
             "linecolor": "white",
             "minorgridcolor": "white",
             "startlinecolor": "#2a3f5f"
            },
            "baxis": {
             "endlinecolor": "#2a3f5f",
             "gridcolor": "white",
             "linecolor": "white",
             "minorgridcolor": "white",
             "startlinecolor": "#2a3f5f"
            },
            "type": "carpet"
           }
          ],
          "choropleth": [
           {
            "colorbar": {
             "outlinewidth": 0,
             "ticks": ""
            },
            "type": "choropleth"
           }
          ],
          "contour": [
           {
            "colorbar": {
             "outlinewidth": 0,
             "ticks": ""
            },
            "colorscale": [
             [
              0,
              "#0d0887"
             ],
             [
              0.1111111111111111,
              "#46039f"
             ],
             [
              0.2222222222222222,
              "#7201a8"
             ],
             [
              0.3333333333333333,
              "#9c179e"
             ],
             [
              0.4444444444444444,
              "#bd3786"
             ],
             [
              0.5555555555555556,
              "#d8576b"
             ],
             [
              0.6666666666666666,
              "#ed7953"
             ],
             [
              0.7777777777777778,
              "#fb9f3a"
             ],
             [
              0.8888888888888888,
              "#fdca26"
             ],
             [
              1,
              "#f0f921"
             ]
            ],
            "type": "contour"
           }
          ],
          "contourcarpet": [
           {
            "colorbar": {
             "outlinewidth": 0,
             "ticks": ""
            },
            "type": "contourcarpet"
           }
          ],
          "heatmap": [
           {
            "colorbar": {
             "outlinewidth": 0,
             "ticks": ""
            },
            "colorscale": [
             [
              0,
              "#0d0887"
             ],
             [
              0.1111111111111111,
              "#46039f"
             ],
             [
              0.2222222222222222,
              "#7201a8"
             ],
             [
              0.3333333333333333,
              "#9c179e"
             ],
             [
              0.4444444444444444,
              "#bd3786"
             ],
             [
              0.5555555555555556,
              "#d8576b"
             ],
             [
              0.6666666666666666,
              "#ed7953"
             ],
             [
              0.7777777777777778,
              "#fb9f3a"
             ],
             [
              0.8888888888888888,
              "#fdca26"
             ],
             [
              1,
              "#f0f921"
             ]
            ],
            "type": "heatmap"
           }
          ],
          "heatmapgl": [
           {
            "colorbar": {
             "outlinewidth": 0,
             "ticks": ""
            },
            "colorscale": [
             [
              0,
              "#0d0887"
             ],
             [
              0.1111111111111111,
              "#46039f"
             ],
             [
              0.2222222222222222,
              "#7201a8"
             ],
             [
              0.3333333333333333,
              "#9c179e"
             ],
             [
              0.4444444444444444,
              "#bd3786"
             ],
             [
              0.5555555555555556,
              "#d8576b"
             ],
             [
              0.6666666666666666,
              "#ed7953"
             ],
             [
              0.7777777777777778,
              "#fb9f3a"
             ],
             [
              0.8888888888888888,
              "#fdca26"
             ],
             [
              1,
              "#f0f921"
             ]
            ],
            "type": "heatmapgl"
           }
          ],
          "histogram": [
           {
            "marker": {
             "pattern": {
              "fillmode": "overlay",
              "size": 10,
              "solidity": 0.2
             }
            },
            "type": "histogram"
           }
          ],
          "histogram2d": [
           {
            "colorbar": {
             "outlinewidth": 0,
             "ticks": ""
            },
            "colorscale": [
             [
              0,
              "#0d0887"
             ],
             [
              0.1111111111111111,
              "#46039f"
             ],
             [
              0.2222222222222222,
              "#7201a8"
             ],
             [
              0.3333333333333333,
              "#9c179e"
             ],
             [
              0.4444444444444444,
              "#bd3786"
             ],
             [
              0.5555555555555556,
              "#d8576b"
             ],
             [
              0.6666666666666666,
              "#ed7953"
             ],
             [
              0.7777777777777778,
              "#fb9f3a"
             ],
             [
              0.8888888888888888,
              "#fdca26"
             ],
             [
              1,
              "#f0f921"
             ]
            ],
            "type": "histogram2d"
           }
          ],
          "histogram2dcontour": [
           {
            "colorbar": {
             "outlinewidth": 0,
             "ticks": ""
            },
            "colorscale": [
             [
              0,
              "#0d0887"
             ],
             [
              0.1111111111111111,
              "#46039f"
             ],
             [
              0.2222222222222222,
              "#7201a8"
             ],
             [
              0.3333333333333333,
              "#9c179e"
             ],
             [
              0.4444444444444444,
              "#bd3786"
             ],
             [
              0.5555555555555556,
              "#d8576b"
             ],
             [
              0.6666666666666666,
              "#ed7953"
             ],
             [
              0.7777777777777778,
              "#fb9f3a"
             ],
             [
              0.8888888888888888,
              "#fdca26"
             ],
             [
              1,
              "#f0f921"
             ]
            ],
            "type": "histogram2dcontour"
           }
          ],
          "mesh3d": [
           {
            "colorbar": {
             "outlinewidth": 0,
             "ticks": ""
            },
            "type": "mesh3d"
           }
          ],
          "parcoords": [
           {
            "line": {
             "colorbar": {
              "outlinewidth": 0,
              "ticks": ""
             }
            },
            "type": "parcoords"
           }
          ],
          "pie": [
           {
            "automargin": true,
            "type": "pie"
           }
          ],
          "scatter": [
           {
            "fillpattern": {
             "fillmode": "overlay",
             "size": 10,
             "solidity": 0.2
            },
            "type": "scatter"
           }
          ],
          "scatter3d": [
           {
            "line": {
             "colorbar": {
              "outlinewidth": 0,
              "ticks": ""
             }
            },
            "marker": {
             "colorbar": {
              "outlinewidth": 0,
              "ticks": ""
             }
            },
            "type": "scatter3d"
           }
          ],
          "scattercarpet": [
           {
            "marker": {
             "colorbar": {
              "outlinewidth": 0,
              "ticks": ""
             }
            },
            "type": "scattercarpet"
           }
          ],
          "scattergeo": [
           {
            "marker": {
             "colorbar": {
              "outlinewidth": 0,
              "ticks": ""
             }
            },
            "type": "scattergeo"
           }
          ],
          "scattergl": [
           {
            "marker": {
             "colorbar": {
              "outlinewidth": 0,
              "ticks": ""
             }
            },
            "type": "scattergl"
           }
          ],
          "scattermapbox": [
           {
            "marker": {
             "colorbar": {
              "outlinewidth": 0,
              "ticks": ""
             }
            },
            "type": "scattermapbox"
           }
          ],
          "scatterpolar": [
           {
            "marker": {
             "colorbar": {
              "outlinewidth": 0,
              "ticks": ""
             }
            },
            "type": "scatterpolar"
           }
          ],
          "scatterpolargl": [
           {
            "marker": {
             "colorbar": {
              "outlinewidth": 0,
              "ticks": ""
             }
            },
            "type": "scatterpolargl"
           }
          ],
          "scatterternary": [
           {
            "marker": {
             "colorbar": {
              "outlinewidth": 0,
              "ticks": ""
             }
            },
            "type": "scatterternary"
           }
          ],
          "surface": [
           {
            "colorbar": {
             "outlinewidth": 0,
             "ticks": ""
            },
            "colorscale": [
             [
              0,
              "#0d0887"
             ],
             [
              0.1111111111111111,
              "#46039f"
             ],
             [
              0.2222222222222222,
              "#7201a8"
             ],
             [
              0.3333333333333333,
              "#9c179e"
             ],
             [
              0.4444444444444444,
              "#bd3786"
             ],
             [
              0.5555555555555556,
              "#d8576b"
             ],
             [
              0.6666666666666666,
              "#ed7953"
             ],
             [
              0.7777777777777778,
              "#fb9f3a"
             ],
             [
              0.8888888888888888,
              "#fdca26"
             ],
             [
              1,
              "#f0f921"
             ]
            ],
            "type": "surface"
           }
          ],
          "table": [
           {
            "cells": {
             "fill": {
              "color": "#EBF0F8"
             },
             "line": {
              "color": "white"
             }
            },
            "header": {
             "fill": {
              "color": "#C8D4E3"
             },
             "line": {
              "color": "white"
             }
            },
            "type": "table"
           }
          ]
         },
         "layout": {
          "annotationdefaults": {
           "arrowcolor": "#2a3f5f",
           "arrowhead": 0,
           "arrowwidth": 1
          },
          "autotypenumbers": "strict",
          "coloraxis": {
           "colorbar": {
            "outlinewidth": 0,
            "ticks": ""
           }
          },
          "colorscale": {
           "diverging": [
            [
             0,
             "#8e0152"
            ],
            [
             0.1,
             "#c51b7d"
            ],
            [
             0.2,
             "#de77ae"
            ],
            [
             0.3,
             "#f1b6da"
            ],
            [
             0.4,
             "#fde0ef"
            ],
            [
             0.5,
             "#f7f7f7"
            ],
            [
             0.6,
             "#e6f5d0"
            ],
            [
             0.7,
             "#b8e186"
            ],
            [
             0.8,
             "#7fbc41"
            ],
            [
             0.9,
             "#4d9221"
            ],
            [
             1,
             "#276419"
            ]
           ],
           "sequential": [
            [
             0,
             "#0d0887"
            ],
            [
             0.1111111111111111,
             "#46039f"
            ],
            [
             0.2222222222222222,
             "#7201a8"
            ],
            [
             0.3333333333333333,
             "#9c179e"
            ],
            [
             0.4444444444444444,
             "#bd3786"
            ],
            [
             0.5555555555555556,
             "#d8576b"
            ],
            [
             0.6666666666666666,
             "#ed7953"
            ],
            [
             0.7777777777777778,
             "#fb9f3a"
            ],
            [
             0.8888888888888888,
             "#fdca26"
            ],
            [
             1,
             "#f0f921"
            ]
           ],
           "sequentialminus": [
            [
             0,
             "#0d0887"
            ],
            [
             0.1111111111111111,
             "#46039f"
            ],
            [
             0.2222222222222222,
             "#7201a8"
            ],
            [
             0.3333333333333333,
             "#9c179e"
            ],
            [
             0.4444444444444444,
             "#bd3786"
            ],
            [
             0.5555555555555556,
             "#d8576b"
            ],
            [
             0.6666666666666666,
             "#ed7953"
            ],
            [
             0.7777777777777778,
             "#fb9f3a"
            ],
            [
             0.8888888888888888,
             "#fdca26"
            ],
            [
             1,
             "#f0f921"
            ]
           ]
          },
          "colorway": [
           "#636efa",
           "#EF553B",
           "#00cc96",
           "#ab63fa",
           "#FFA15A",
           "#19d3f3",
           "#FF6692",
           "#B6E880",
           "#FF97FF",
           "#FECB52"
          ],
          "font": {
           "color": "#2a3f5f"
          },
          "geo": {
           "bgcolor": "white",
           "lakecolor": "white",
           "landcolor": "#E5ECF6",
           "showlakes": true,
           "showland": true,
           "subunitcolor": "white"
          },
          "hoverlabel": {
           "align": "left"
          },
          "hovermode": "closest",
          "mapbox": {
           "style": "light"
          },
          "paper_bgcolor": "white",
          "plot_bgcolor": "#E5ECF6",
          "polar": {
           "angularaxis": {
            "gridcolor": "white",
            "linecolor": "white",
            "ticks": ""
           },
           "bgcolor": "#E5ECF6",
           "radialaxis": {
            "gridcolor": "white",
            "linecolor": "white",
            "ticks": ""
           }
          },
          "scene": {
           "xaxis": {
            "backgroundcolor": "#E5ECF6",
            "gridcolor": "white",
            "gridwidth": 2,
            "linecolor": "white",
            "showbackground": true,
            "ticks": "",
            "zerolinecolor": "white"
           },
           "yaxis": {
            "backgroundcolor": "#E5ECF6",
            "gridcolor": "white",
            "gridwidth": 2,
            "linecolor": "white",
            "showbackground": true,
            "ticks": "",
            "zerolinecolor": "white"
           },
           "zaxis": {
            "backgroundcolor": "#E5ECF6",
            "gridcolor": "white",
            "gridwidth": 2,
            "linecolor": "white",
            "showbackground": true,
            "ticks": "",
            "zerolinecolor": "white"
           }
          },
          "shapedefaults": {
           "line": {
            "color": "#2a3f5f"
           }
          },
          "ternary": {
           "aaxis": {
            "gridcolor": "white",
            "linecolor": "white",
            "ticks": ""
           },
           "baxis": {
            "gridcolor": "white",
            "linecolor": "white",
            "ticks": ""
           },
           "bgcolor": "#E5ECF6",
           "caxis": {
            "gridcolor": "white",
            "linecolor": "white",
            "ticks": ""
           }
          },
          "title": {
           "x": 0.05
          },
          "xaxis": {
           "automargin": true,
           "gridcolor": "white",
           "linecolor": "white",
           "ticks": "",
           "title": {
            "standoff": 15
           },
           "zerolinecolor": "white",
           "zerolinewidth": 2
          },
          "yaxis": {
           "automargin": true,
           "gridcolor": "white",
           "linecolor": "white",
           "ticks": "",
           "title": {
            "standoff": 15
           },
           "zerolinecolor": "white",
           "zerolinewidth": 2
          }
         }
        },
        "title": {
         "text": "can & dog concepts"
        },
        "width": 600,
        "xaxis": {
         "anchor": "y",
         "domain": [
          0,
          1
         ],
         "title": {
          "text": "CLIP-T"
         }
        },
        "yaxis": {
         "anchor": "x",
         "domain": [
          0,
          1
         ],
         "title": {
          "text": "Base CLIP-I"
         }
        }
       }
      },
      "text/html": [
       "<div>                            <div id=\"94c943a5-01db-4fd5-8861-c748518f6c4d\" class=\"plotly-graph-div\" style=\"height:600px; width:600px;\"></div>            <script type=\"text/javascript\">                require([\"plotly\"], function(Plotly) {                    window.PLOTLYENV=window.PLOTLYENV || {};                                    if (document.getElementById(\"94c943a5-01db-4fd5-8861-c748518f6c4d\")) {                    Plotly.newPlot(                        \"94c943a5-01db-4fd5-8861-c748518f6c4d\",                        [{\"hovertemplate\":\"method=pretrained\\u003cbr\\u003eCLIP-T=%{x}\\u003cbr\\u003eBase CLIP-I=%{y}\\u003cextra\\u003e\\u003c\\u002fextra\\u003e\",\"legendgroup\":\"pretrained\",\"marker\":{\"color\":\"#636efa\",\"symbol\":\"circle\"},\"mode\":\"markers\",\"name\":\"pretrained\",\"orientation\":\"v\",\"showlegend\":true,\"x\":[0.34547119137170257],\"xaxis\":\"x\",\"y\":[0.661118326810598],\"yaxis\":\"y\",\"type\":\"scatter\"},{\"hovertemplate\":\"method=real images\\u003cbr\\u003eCLIP-T=%{x}\\u003cbr\\u003eBase CLIP-I=%{y}\\u003cextra\\u003e\\u003c\\u002fextra\\u003e\",\"legendgroup\":\"real images\",\"marker\":{\"color\":\"#EF553B\",\"symbol\":\"circle\"},\"mode\":\"markers\",\"name\":\"real images\",\"orientation\":\"v\",\"showlegend\":true,\"x\":[0.0],\"xaxis\":\"x\",\"y\":[0.877435709334286],\"yaxis\":\"y\",\"type\":\"scatter\"},{\"hovertemplate\":\"method=textual inversion\\u003cbr\\u003eCLIP-T=%{x}\\u003cbr\\u003eBase CLIP-I=%{y}\\u003cextra\\u003e\\u003c\\u002fextra\\u003e\",\"legendgroup\":\"textual inversion\",\"marker\":{\"color\":\"#00cc96\",\"symbol\":\"circle\"},\"mode\":\"markers\",\"name\":\"textual inversion\",\"orientation\":\"v\",\"showlegend\":true,\"x\":[0.3083703612972875],\"xaxis\":\"x\",\"y\":[0.791257486964543],\"yaxis\":\"y\",\"type\":\"scatter\"},{\"hovertemplate\":\"method=dreambooth\\u003cbr\\u003eCLIP-T=%{x}\\u003cbr\\u003eBase CLIP-I=%{y}\\u003cextra\\u003e\\u003c\\u002fextra\\u003e\",\"legendgroup\":\"dreambooth\",\"marker\":{\"color\":\"#ab63fa\",\"symbol\":\"circle\"},\"mode\":\"markers\",\"name\":\"dreambooth\",\"orientation\":\"v\",\"showlegend\":true,\"x\":[0.32176818844438504],\"xaxis\":\"x\",\"y\":[0.8438583984219505],\"yaxis\":\"y\",\"type\":\"scatter\"},{\"hovertemplate\":\"method=custom diffusion\\u003cbr\\u003eCLIP-T=%{x}\\u003cbr\\u003eBase CLIP-I=%{y}\\u003cextra\\u003e\\u003c\\u002fextra\\u003e\",\"legendgroup\":\"custom diffusion\",\"marker\":{\"color\":\"#FFA15A\",\"symbol\":\"circle\"},\"mode\":\"markers\",\"name\":\"custom diffusion\",\"orientation\":\"v\",\"showlegend\":true,\"x\":[0.30471679684452757],\"xaxis\":\"x\",\"y\":[0.8211299641775616],\"yaxis\":\"y\",\"type\":\"scatter\"},{\"hovertemplate\":\"method=concept discovery\\u003cbr\\u003eCLIP-T=%{x}\\u003cbr\\u003eBase CLIP-I=%{y}\\u003cextra\\u003e\\u003c\\u002fextra\\u003e\",\"legendgroup\":\"concept discovery\",\"marker\":{\"color\":\"#19d3f3\",\"symbol\":\"circle\"},\"mode\":\"markers\",\"name\":\"concept discovery\",\"orientation\":\"v\",\"showlegend\":true,\"x\":[0.27572143551930206],\"xaxis\":\"x\",\"y\":[0.7866904296729466],\"yaxis\":\"y\",\"type\":\"scatter\"}],                        {\"template\":{\"data\":{\"histogram2dcontour\":[{\"type\":\"histogram2dcontour\",\"colorbar\":{\"outlinewidth\":0,\"ticks\":\"\"},\"colorscale\":[[0.0,\"#0d0887\"],[0.1111111111111111,\"#46039f\"],[0.2222222222222222,\"#7201a8\"],[0.3333333333333333,\"#9c179e\"],[0.4444444444444444,\"#bd3786\"],[0.5555555555555556,\"#d8576b\"],[0.6666666666666666,\"#ed7953\"],[0.7777777777777778,\"#fb9f3a\"],[0.8888888888888888,\"#fdca26\"],[1.0,\"#f0f921\"]]}],\"choropleth\":[{\"type\":\"choropleth\",\"colorbar\":{\"outlinewidth\":0,\"ticks\":\"\"}}],\"histogram2d\":[{\"type\":\"histogram2d\",\"colorbar\":{\"outlinewidth\":0,\"ticks\":\"\"},\"colorscale\":[[0.0,\"#0d0887\"],[0.1111111111111111,\"#46039f\"],[0.2222222222222222,\"#7201a8\"],[0.3333333333333333,\"#9c179e\"],[0.4444444444444444,\"#bd3786\"],[0.5555555555555556,\"#d8576b\"],[0.6666666666666666,\"#ed7953\"],[0.7777777777777778,\"#fb9f3a\"],[0.8888888888888888,\"#fdca26\"],[1.0,\"#f0f921\"]]}],\"heatmap\":[{\"type\":\"heatmap\",\"colorbar\":{\"outlinewidth\":0,\"ticks\":\"\"},\"colorscale\":[[0.0,\"#0d0887\"],[0.1111111111111111,\"#46039f\"],[0.2222222222222222,\"#7201a8\"],[0.3333333333333333,\"#9c179e\"],[0.4444444444444444,\"#bd3786\"],[0.5555555555555556,\"#d8576b\"],[0.6666666666666666,\"#ed7953\"],[0.7777777777777778,\"#fb9f3a\"],[0.8888888888888888,\"#fdca26\"],[1.0,\"#f0f921\"]]}],\"heatmapgl\":[{\"type\":\"heatmapgl\",\"colorbar\":{\"outlinewidth\":0,\"ticks\":\"\"},\"colorscale\":[[0.0,\"#0d0887\"],[0.1111111111111111,\"#46039f\"],[0.2222222222222222,\"#7201a8\"],[0.3333333333333333,\"#9c179e\"],[0.4444444444444444,\"#bd3786\"],[0.5555555555555556,\"#d8576b\"],[0.6666666666666666,\"#ed7953\"],[0.7777777777777778,\"#fb9f3a\"],[0.8888888888888888,\"#fdca26\"],[1.0,\"#f0f921\"]]}],\"contourcarpet\":[{\"type\":\"contourcarpet\",\"colorbar\":{\"outlinewidth\":0,\"ticks\":\"\"}}],\"contour\":[{\"type\":\"contour\",\"colorbar\":{\"outlinewidth\":0,\"ticks\":\"\"},\"colorscale\":[[0.0,\"#0d0887\"],[0.1111111111111111,\"#46039f\"],[0.2222222222222222,\"#7201a8\"],[0.3333333333333333,\"#9c179e\"],[0.4444444444444444,\"#bd3786\"],[0.5555555555555556,\"#d8576b\"],[0.6666666666666666,\"#ed7953\"],[0.7777777777777778,\"#fb9f3a\"],[0.8888888888888888,\"#fdca26\"],[1.0,\"#f0f921\"]]}],\"surface\":[{\"type\":\"surface\",\"colorbar\":{\"outlinewidth\":0,\"ticks\":\"\"},\"colorscale\":[[0.0,\"#0d0887\"],[0.1111111111111111,\"#46039f\"],[0.2222222222222222,\"#7201a8\"],[0.3333333333333333,\"#9c179e\"],[0.4444444444444444,\"#bd3786\"],[0.5555555555555556,\"#d8576b\"],[0.6666666666666666,\"#ed7953\"],[0.7777777777777778,\"#fb9f3a\"],[0.8888888888888888,\"#fdca26\"],[1.0,\"#f0f921\"]]}],\"mesh3d\":[{\"type\":\"mesh3d\",\"colorbar\":{\"outlinewidth\":0,\"ticks\":\"\"}}],\"scatter\":[{\"fillpattern\":{\"fillmode\":\"overlay\",\"size\":10,\"solidity\":0.2},\"type\":\"scatter\"}],\"parcoords\":[{\"type\":\"parcoords\",\"line\":{\"colorbar\":{\"outlinewidth\":0,\"ticks\":\"\"}}}],\"scatterpolargl\":[{\"type\":\"scatterpolargl\",\"marker\":{\"colorbar\":{\"outlinewidth\":0,\"ticks\":\"\"}}}],\"bar\":[{\"error_x\":{\"color\":\"#2a3f5f\"},\"error_y\":{\"color\":\"#2a3f5f\"},\"marker\":{\"line\":{\"color\":\"#E5ECF6\",\"width\":0.5},\"pattern\":{\"fillmode\":\"overlay\",\"size\":10,\"solidity\":0.2}},\"type\":\"bar\"}],\"scattergeo\":[{\"type\":\"scattergeo\",\"marker\":{\"colorbar\":{\"outlinewidth\":0,\"ticks\":\"\"}}}],\"scatterpolar\":[{\"type\":\"scatterpolar\",\"marker\":{\"colorbar\":{\"outlinewidth\":0,\"ticks\":\"\"}}}],\"histogram\":[{\"marker\":{\"pattern\":{\"fillmode\":\"overlay\",\"size\":10,\"solidity\":0.2}},\"type\":\"histogram\"}],\"scattergl\":[{\"type\":\"scattergl\",\"marker\":{\"colorbar\":{\"outlinewidth\":0,\"ticks\":\"\"}}}],\"scatter3d\":[{\"type\":\"scatter3d\",\"line\":{\"colorbar\":{\"outlinewidth\":0,\"ticks\":\"\"}},\"marker\":{\"colorbar\":{\"outlinewidth\":0,\"ticks\":\"\"}}}],\"scattermapbox\":[{\"type\":\"scattermapbox\",\"marker\":{\"colorbar\":{\"outlinewidth\":0,\"ticks\":\"\"}}}],\"scatterternary\":[{\"type\":\"scatterternary\",\"marker\":{\"colorbar\":{\"outlinewidth\":0,\"ticks\":\"\"}}}],\"scattercarpet\":[{\"type\":\"scattercarpet\",\"marker\":{\"colorbar\":{\"outlinewidth\":0,\"ticks\":\"\"}}}],\"carpet\":[{\"aaxis\":{\"endlinecolor\":\"#2a3f5f\",\"gridcolor\":\"white\",\"linecolor\":\"white\",\"minorgridcolor\":\"white\",\"startlinecolor\":\"#2a3f5f\"},\"baxis\":{\"endlinecolor\":\"#2a3f5f\",\"gridcolor\":\"white\",\"linecolor\":\"white\",\"minorgridcolor\":\"white\",\"startlinecolor\":\"#2a3f5f\"},\"type\":\"carpet\"}],\"table\":[{\"cells\":{\"fill\":{\"color\":\"#EBF0F8\"},\"line\":{\"color\":\"white\"}},\"header\":{\"fill\":{\"color\":\"#C8D4E3\"},\"line\":{\"color\":\"white\"}},\"type\":\"table\"}],\"barpolar\":[{\"marker\":{\"line\":{\"color\":\"#E5ECF6\",\"width\":0.5},\"pattern\":{\"fillmode\":\"overlay\",\"size\":10,\"solidity\":0.2}},\"type\":\"barpolar\"}],\"pie\":[{\"automargin\":true,\"type\":\"pie\"}]},\"layout\":{\"autotypenumbers\":\"strict\",\"colorway\":[\"#636efa\",\"#EF553B\",\"#00cc96\",\"#ab63fa\",\"#FFA15A\",\"#19d3f3\",\"#FF6692\",\"#B6E880\",\"#FF97FF\",\"#FECB52\"],\"font\":{\"color\":\"#2a3f5f\"},\"hovermode\":\"closest\",\"hoverlabel\":{\"align\":\"left\"},\"paper_bgcolor\":\"white\",\"plot_bgcolor\":\"#E5ECF6\",\"polar\":{\"bgcolor\":\"#E5ECF6\",\"angularaxis\":{\"gridcolor\":\"white\",\"linecolor\":\"white\",\"ticks\":\"\"},\"radialaxis\":{\"gridcolor\":\"white\",\"linecolor\":\"white\",\"ticks\":\"\"}},\"ternary\":{\"bgcolor\":\"#E5ECF6\",\"aaxis\":{\"gridcolor\":\"white\",\"linecolor\":\"white\",\"ticks\":\"\"},\"baxis\":{\"gridcolor\":\"white\",\"linecolor\":\"white\",\"ticks\":\"\"},\"caxis\":{\"gridcolor\":\"white\",\"linecolor\":\"white\",\"ticks\":\"\"}},\"coloraxis\":{\"colorbar\":{\"outlinewidth\":0,\"ticks\":\"\"}},\"colorscale\":{\"sequential\":[[0.0,\"#0d0887\"],[0.1111111111111111,\"#46039f\"],[0.2222222222222222,\"#7201a8\"],[0.3333333333333333,\"#9c179e\"],[0.4444444444444444,\"#bd3786\"],[0.5555555555555556,\"#d8576b\"],[0.6666666666666666,\"#ed7953\"],[0.7777777777777778,\"#fb9f3a\"],[0.8888888888888888,\"#fdca26\"],[1.0,\"#f0f921\"]],\"sequentialminus\":[[0.0,\"#0d0887\"],[0.1111111111111111,\"#46039f\"],[0.2222222222222222,\"#7201a8\"],[0.3333333333333333,\"#9c179e\"],[0.4444444444444444,\"#bd3786\"],[0.5555555555555556,\"#d8576b\"],[0.6666666666666666,\"#ed7953\"],[0.7777777777777778,\"#fb9f3a\"],[0.8888888888888888,\"#fdca26\"],[1.0,\"#f0f921\"]],\"diverging\":[[0,\"#8e0152\"],[0.1,\"#c51b7d\"],[0.2,\"#de77ae\"],[0.3,\"#f1b6da\"],[0.4,\"#fde0ef\"],[0.5,\"#f7f7f7\"],[0.6,\"#e6f5d0\"],[0.7,\"#b8e186\"],[0.8,\"#7fbc41\"],[0.9,\"#4d9221\"],[1,\"#276419\"]]},\"xaxis\":{\"gridcolor\":\"white\",\"linecolor\":\"white\",\"ticks\":\"\",\"title\":{\"standoff\":15},\"zerolinecolor\":\"white\",\"automargin\":true,\"zerolinewidth\":2},\"yaxis\":{\"gridcolor\":\"white\",\"linecolor\":\"white\",\"ticks\":\"\",\"title\":{\"standoff\":15},\"zerolinecolor\":\"white\",\"automargin\":true,\"zerolinewidth\":2},\"scene\":{\"xaxis\":{\"backgroundcolor\":\"#E5ECF6\",\"gridcolor\":\"white\",\"linecolor\":\"white\",\"showbackground\":true,\"ticks\":\"\",\"zerolinecolor\":\"white\",\"gridwidth\":2},\"yaxis\":{\"backgroundcolor\":\"#E5ECF6\",\"gridcolor\":\"white\",\"linecolor\":\"white\",\"showbackground\":true,\"ticks\":\"\",\"zerolinecolor\":\"white\",\"gridwidth\":2},\"zaxis\":{\"backgroundcolor\":\"#E5ECF6\",\"gridcolor\":\"white\",\"linecolor\":\"white\",\"showbackground\":true,\"ticks\":\"\",\"zerolinecolor\":\"white\",\"gridwidth\":2}},\"shapedefaults\":{\"line\":{\"color\":\"#2a3f5f\"}},\"annotationdefaults\":{\"arrowcolor\":\"#2a3f5f\",\"arrowhead\":0,\"arrowwidth\":1},\"geo\":{\"bgcolor\":\"white\",\"landcolor\":\"#E5ECF6\",\"subunitcolor\":\"white\",\"showland\":true,\"showlakes\":true,\"lakecolor\":\"white\"},\"title\":{\"x\":0.05},\"mapbox\":{\"style\":\"light\"}}},\"xaxis\":{\"anchor\":\"y\",\"domain\":[0.0,1.0],\"title\":{\"text\":\"CLIP-T\"}},\"yaxis\":{\"anchor\":\"x\",\"domain\":[0.0,1.0],\"title\":{\"text\":\"Base CLIP-I\"}},\"legend\":{\"title\":{\"text\":\"method\",\"font\":{\"family\":\"Courier New\"}},\"tracegroupgap\":0,\"font\":{\"size\":16}},\"title\":{\"text\":\"can & dog concepts\"},\"height\":600,\"width\":600,\"showlegend\":true},                        {\"responsive\": true}                    ).then(function(){\n",
       "                            \n",
       "var gd = document.getElementById('94c943a5-01db-4fd5-8861-c748518f6c4d');\n",
       "var x = new MutationObserver(function (mutations, observer) {{\n",
       "        var display = window.getComputedStyle(gd).display;\n",
       "        if (!display || display === 'none') {{\n",
       "            console.log([gd, 'removed!']);\n",
       "            Plotly.purge(gd);\n",
       "            observer.disconnect();\n",
       "        }}\n",
       "}});\n",
       "\n",
       "// Listen for the removal of the full notebook cells\n",
       "var notebookContainer = gd.closest('#notebook-container');\n",
       "if (notebookContainer) {{\n",
       "    x.observe(notebookContainer, {childList: true});\n",
       "}}\n",
       "\n",
       "// Listen for the clearing of the current output cell\n",
       "var outputEl = gd.closest('.output');\n",
       "if (outputEl) {{\n",
       "    x.observe(outputEl, {childList: true});\n",
       "}}\n",
       "\n",
       "                        })                };                });            </script>        </div>"
      ]
     },
     "metadata": {},
     "output_type": "display_data"
    },
    {
     "data": {
      "text/plain": [
       "<Figure size 320x320 with 0 Axes>"
      ]
     },
     "metadata": {},
     "output_type": "display_data"
    }
   ],
   "source": [
    "import plotly.express as px\n",
    "import plotly.io as pio\n",
    "from matplotlib import pyplot as plt\n",
    "from matplotlib.pyplot import figure\n",
    "\n",
    "figure(figsize=(4, 4), dpi=80)\n",
    "\n",
    "#pio.renderers.default='notebook'\n",
    "entity = \"can & dog\"\n",
    "fig = px.scatter(df, color='name', y='CLIP-I', x='CLIP-T', title=f'{entity} concepts',\n",
    "                 labels={\n",
    "                     \"CLIP-I\": \"Base CLIP-I\",\n",
    "                     \"CLIP-T\": \"CLIP-T\",\n",
    "                     \"name\": \"method\"\n",
    "                 }, width=600, height=600\n",
    ")\n",
    "fig.update_layout(showlegend=True, legend=dict(\n",
    "    title_font_family='Courier New',\n",
    "    font=dict(\n",
    "        size=16\n",
    "    )\n",
    "))\n",
    "\n",
    "fig.show()"
   ]
  },
  {
   "cell_type": "code",
   "execution_count": null,
   "id": "4c7b96b5",
   "metadata": {},
   "outputs": [],
   "source": []
  }
 ],
 "metadata": {
  "kernelspec": {
   "display_name": "Python 3 (ipykernel)",
   "language": "python",
   "name": "python3"
  },
  "language_info": {
   "codemirror_mode": {
    "name": "ipython",
    "version": 3
   },
   "file_extension": ".py",
   "mimetype": "text/x-python",
   "name": "python",
   "nbconvert_exporter": "python",
   "pygments_lexer": "ipython3",
   "version": "3.10.12"
  }
 },
 "nbformat": 4,
 "nbformat_minor": 5
}
