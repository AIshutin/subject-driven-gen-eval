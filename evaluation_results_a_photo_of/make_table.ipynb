{
 "cells": [
  {
   "cell_type": "code",
   "execution_count": 10,
   "id": "36f5bf21",
   "metadata": {},
   "outputs": [
    {
     "name": "stdout",
     "output_type": "stream",
     "text": [
      "dog\n"
     ]
    },
    {
     "data": {
      "text/html": [
       "<style type=\"text/css\">\n",
       "#T_c81ac_row1_col2, #T_c81ac_row1_col3, #T_c81ac_row2_col1 {\n",
       "  font-weight: bold;\n",
       "}\n",
       "</style>\n",
       "<table id=\"T_c81ac\">\n",
       "  <thead>\n",
       "    <tr>\n",
       "      <th class=\"blank level0\" >&nbsp;</th>\n",
       "      <th id=\"T_c81ac_level0_col0\" class=\"col_heading level0 col0\" >name</th>\n",
       "      <th id=\"T_c81ac_level0_col1\" class=\"col_heading level0 col1\" >DINO</th>\n",
       "      <th id=\"T_c81ac_level0_col2\" class=\"col_heading level0 col2\" >CLIP-I</th>\n",
       "      <th id=\"T_c81ac_level0_col3\" class=\"col_heading level0 col3\" >CLIP-T</th>\n",
       "    </tr>\n",
       "  </thead>\n",
       "  <tbody>\n",
       "    <tr>\n",
       "      <th id=\"T_c81ac_level0_row0\" class=\"row_heading level0 row0\" >0</th>\n",
       "      <td id=\"T_c81ac_row0_col0\" class=\"data row0 col0\" >textual inversion</td>\n",
       "      <td id=\"T_c81ac_row0_col1\" class=\"data row0 col1\" >0.805</td>\n",
       "      <td id=\"T_c81ac_row0_col2\" class=\"data row0 col2\" >0.861</td>\n",
       "      <td id=\"T_c81ac_row0_col3\" class=\"data row0 col3\" >0.311</td>\n",
       "    </tr>\n",
       "    <tr>\n",
       "      <th id=\"T_c81ac_level0_row1\" class=\"row_heading level0 row1\" >1</th>\n",
       "      <td id=\"T_c81ac_row1_col0\" class=\"data row1 col0\" >dreambooth</td>\n",
       "      <td id=\"T_c81ac_row1_col1\" class=\"data row1 col1\" >0.834</td>\n",
       "      <td id=\"T_c81ac_row1_col2\" class=\"data row1 col2\" >0.891</td>\n",
       "      <td id=\"T_c81ac_row1_col3\" class=\"data row1 col3\" >0.332</td>\n",
       "    </tr>\n",
       "    <tr>\n",
       "      <th id=\"T_c81ac_level0_row2\" class=\"row_heading level0 row2\" >2</th>\n",
       "      <td id=\"T_c81ac_row2_col0\" class=\"data row2 col0\" >custom diffusion</td>\n",
       "      <td id=\"T_c81ac_row2_col1\" class=\"data row2 col1\" >0.840</td>\n",
       "      <td id=\"T_c81ac_row2_col2\" class=\"data row2 col2\" >0.877</td>\n",
       "      <td id=\"T_c81ac_row2_col3\" class=\"data row2 col3\" >0.308</td>\n",
       "    </tr>\n",
       "  </tbody>\n",
       "</table>\n"
      ],
      "text/plain": [
       "<pandas.io.formats.style.Styler at 0x7f8c104a19f0>"
      ]
     },
     "execution_count": 10,
     "metadata": {},
     "output_type": "execute_result"
    }
   ],
   "source": [
    "import pandas as pd\n",
    "\n",
    "entity = 'dog'\n",
    "\n",
    "data = [\n",
    "#    (\"pretrained\", f\"{entity}-baseline-eval.json\"),\n",
    "#    (\"real images\", f\"{entity}-realimages-eval.json\"),\n",
    "    (\"textual inversion\", f\"{entity}-textual_inversion-eval.json\"),\n",
    "    (\"dreambooth\", f\"{entity}-dreambooth-eval.json\"),\n",
    "    (\"custom diffusion\", f\"{entity}-custom_diffusion-eval.json\"),\n",
    "#    (\"concept discovery\", f\"{entity}-concept_discovery-eval.json\"),\n",
    "]\n",
    "\n",
    "rows = []\n",
    "header = ['name', 'CLIP-T', 'CLIP-I', 'DINO']\n",
    "\n",
    "for el in data:\n",
    "    curr = pd.read_json(el[1], lines=True).mean()\n",
    "    # print(curr, list(curr))\n",
    "    rows.append([el[0]] + list(curr))\n",
    "df = pd.DataFrame(rows, columns=header)\n",
    "\n",
    "\n",
    "# Function to apply bold text for max values\n",
    "def highlight_max(s):\n",
    "    '''\n",
    "    Highlight the maximum in a Series yellow.\n",
    "    '''\n",
    "    if s.name == 'name':\n",
    "        return [''] * len(s)\n",
    "    else:\n",
    "        is_max = s == s.max()\n",
    "        return ['font-weight: bold' if v else '' for v in is_max]\n",
    "\n",
    "# Apply the style\n",
    "columns_titles = [\"name\", \"DINO\", \"CLIP-I\", \"CLIP-T\"]\n",
    "df=df.reindex(columns=columns_titles)\n",
    "\n",
    "styler = df.style.apply(highlight_max).format({\n",
    "    'CLIP-T': '{:.3f}', \n",
    "    'CLIP-I': '{:.3f}',\n",
    "    'DINO':   '{:.3f}',\n",
    "})\n",
    "print(entity)\n",
    "styler"
   ]
  },
  {
   "cell_type": "code",
   "execution_count": 6,
   "id": "c5ec70f8",
   "metadata": {},
   "outputs": [
    {
     "data": {
      "text/plain": [
       "'{\"name\":{\"0\":\"pretrained\",\"1\":\"real images\",\"2\":\"textual inversion\",\"3\":\"dreambooth\",\"4\":\"custom diffusion\",\"5\":\"concept discovery\"},\"DINO\":{\"0\":0.3336472042,\"1\":0.8792187353,\"2\":0.8003449138,\"3\":0.8344519383,\"4\":0.8396901399,\"5\":null},\"CLIP-I\":{\"0\":0.7799560547,\"1\":0.9392382809,\"2\":0.8663076172,\"3\":0.8909882812,\"4\":0.8765966797,\"5\":null},\"CLIP-T\":{\"0\":0.3268395996,\"1\":0.0,\"2\":0.3133862304,\"3\":0.3317114257,\"4\":0.307532959,\"5\":null}}'"
      ]
     },
     "execution_count": 6,
     "metadata": {},
     "output_type": "execute_result"
    }
   ],
   "source": [
    "df.to_json()"
   ]
  },
  {
   "cell_type": "code",
   "execution_count": null,
   "id": "50632870",
   "metadata": {},
   "outputs": [],
   "source": [
    "import plotly.express as px\n",
    "import plotly.io as pio\n",
    "pio.renderers.default='notebook'\n",
    "\n",
    "fig = px.scatter(df, color='name', y='CLIP-I', x='CLIP-T', title=f'{entity} concept',\n",
    "#                 labels={\n",
    "#                     \"CLIP-I\": \"Base CLIP-I\",\n",
    "#                     \"CLIP-T\": \"CLIP-T\",\n",
    "#                     \"name\": \"method\"\n",
    "#                 },\n",
    ")\n",
    "#from matplotlib import pyplot as plt\n",
    "#plt.savefig(f'{entity}.png')\n",
    "fig.show()"
   ]
  },
  {
   "cell_type": "code",
   "execution_count": null,
   "id": "1e72fb92",
   "metadata": {},
   "outputs": [],
   "source": []
  },
  {
   "cell_type": "code",
   "execution_count": 17,
   "id": "c52a4221",
   "metadata": {},
   "outputs": [
    {
     "data": {
      "text/plain": [
       "CLIP-T    0.334020\n",
       "CLIP-I    0.703072\n",
       "DINO      0.374960\n",
       "dtype: float64"
      ]
     },
     "execution_count": 17,
     "metadata": {},
     "output_type": "execute_result"
    }
   ],
   "source": [
    "import pandas as pd\n",
    "import os\n",
    "\n",
    "entity = 'dog'\n",
    "\n",
    "data = [\n",
    "#    (\"pretrained\", f\"{entity}-baseline-eval.json\"),\n",
    "#    (\"real images\", f\"{entity}-realimages-eval.json\"),\n",
    "    (\"textual inversion\", f\"{entity}-textual_inversion-eval.json\"),\n",
    "    (\"dreambooth\", f\"{entity}-dreambooth-eval.json\"),\n",
    "    (\"custom diffusion\", f\"{entity}-custom_diffusion-eval.json\"),\n",
    "#    (\"concept discovery\", f\"{entity}-concept_discovery-eval.json\"),\n",
    "]\n",
    "\n",
    "rows = []\n",
    "header = ['name', 'CLIP-T', 'CLIP-I', 'DINO']\n",
    "\n",
    "for file in os.listdir('.'):\n",
    "    if \"baseline\" not in file:\n",
    "        continue\n",
    "    curr = pd.read_json(file, lines=True).mean()\n",
    "    rows.append([file] + list(curr))\n",
    "\n",
    "df = pd.DataFrame(rows, columns=header)\n",
    "df[['CLIP-T', 'CLIP-I', 'DINO']].mean()"
   ]
  },
  {
   "cell_type": "code",
   "execution_count": null,
   "id": "123af123",
   "metadata": {},
   "outputs": [],
   "source": [
    " pd.read_json(\"realimages-all-eval.json\", lines=True).mean()"
   ]
  }
 ],
 "metadata": {
  "kernelspec": {
   "display_name": "Python 3 (ipykernel)",
   "language": "python",
   "name": "python3"
  },
  "language_info": {
   "codemirror_mode": {
    "name": "ipython",
    "version": 3
   },
   "file_extension": ".py",
   "mimetype": "text/x-python",
   "name": "python",
   "nbconvert_exporter": "python",
   "pygments_lexer": "ipython3",
   "version": "3.10.12"
  }
 },
 "nbformat": 4,
 "nbformat_minor": 5
}
